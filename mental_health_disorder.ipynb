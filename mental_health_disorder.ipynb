{
 "cells": [
  {
   "cell_type": "markdown",
   "id": "ad14df0d-7b50-49ca-9336-6077a15ce58b",
   "metadata": {},
   "source": [
    "# Mental Health Disorder Analysis"
   ]
  },
  {
   "cell_type": "code",
   "execution_count": null,
   "id": "672f3dbd-e01e-42dc-88ad-cf1e287d0d21",
   "metadata": {},
   "outputs": [],
   "source": []
  }
 ],
 "metadata": {
  "kernelspec": {
   "display_name": "Python 3 (ipykernel)",
   "language": "python",
   "name": "python3"
  },
  "language_info": {
   "codemirror_mode": {
    "name": "ipython",
    "version": 3
   },
   "file_extension": ".py",
   "mimetype": "text/x-python",
   "name": "python",
   "nbconvert_exporter": "python",
   "pygments_lexer": "ipython3",
   "version": "3.12.2"
  }
 },
 "nbformat": 4,
 "nbformat_minor": 5
}
